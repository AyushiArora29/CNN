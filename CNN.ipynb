{
 "cells": [
  {
   "cell_type": "code",
   "execution_count": 1,
   "id": "dbbaaf31",
   "metadata": {},
   "outputs": [],
   "source": [
    "import tensorflow as tf\n",
    "from keras.preprocessing.image import ImageDataGenerator"
   ]
  },
  {
   "cell_type": "code",
   "execution_count": 2,
   "id": "c47611bc",
   "metadata": {},
   "outputs": [
    {
     "data": {
      "text/plain": [
       "'2.9.1'"
      ]
     },
     "execution_count": 2,
     "metadata": {},
     "output_type": "execute_result"
    }
   ],
   "source": [
    "tf.__version__"
   ]
  },
  {
   "cell_type": "code",
   "execution_count": 3,
   "id": "fd3d1f98",
   "metadata": {},
   "outputs": [],
   "source": [
    "#pART 1 DATA PREPROCESSING"
   ]
  },
  {
   "cell_type": "code",
   "execution_count": 4,
   "id": "71a17877",
   "metadata": {},
   "outputs": [],
   "source": [
    "#PREPROCESSING THE TRAINING DATA"
   ]
  },
  {
   "cell_type": "code",
   "execution_count": 5,
   "id": "06475e61",
   "metadata": {},
   "outputs": [
    {
     "name": "stdout",
     "output_type": "stream",
     "text": [
      "Found 8000 images belonging to 2 classes.\n"
     ]
    }
   ],
   "source": [
    "train_datagen = ImageDataGenerator(rescale = 1./255,\n",
    "                                   shear_range = 0.2,\n",
    "                                   zoom_range = 0.2,\n",
    "                                   horizontal_flip = True)\n",
    "training_set = train_datagen.flow_from_directory('C:\\\\Users\\\\ayushi arora\\\\Desktop\\\\CNN Dataset\\\\training_set',\n",
    "                                                 target_size = (64, 64),\n",
    "                                                 batch_size = 32,\n",
    "                                                 class_mode = 'binary')"
   ]
  },
  {
   "cell_type": "code",
   "execution_count": 6,
   "id": "7f08f096",
   "metadata": {},
   "outputs": [],
   "source": [
    "#PREPROCESSING THE TEST DATA "
   ]
  },
  {
   "cell_type": "code",
   "execution_count": 7,
   "id": "e2db4bb9",
   "metadata": {},
   "outputs": [
    {
     "name": "stdout",
     "output_type": "stream",
     "text": [
      "Found 2000 images belonging to 2 classes.\n"
     ]
    }
   ],
   "source": [
    "test_datagen = ImageDataGenerator(rescale = 1./255)\n",
    "test_set = test_datagen.flow_from_directory('C:\\\\Users\\\\ayushi arora\\\\Desktop\\\\CNN Dataset\\\\test_set',\n",
    "                                            target_size = (64, 64),\n",
    "                                            batch_size = 32,\n",
    "                                            class_mode = 'binary')"
   ]
  },
  {
   "cell_type": "code",
   "execution_count": 8,
   "id": "80c9bc32",
   "metadata": {},
   "outputs": [],
   "source": [
    "#Part 2 - Building the CNN\n",
    "#Initializing the CNN"
   ]
  },
  {
   "cell_type": "code",
   "execution_count": 9,
   "id": "ff0fdb8b",
   "metadata": {},
   "outputs": [],
   "source": [
    "cnn = tf.keras.models.Sequential()"
   ]
  },
  {
   "cell_type": "code",
   "execution_count": 10,
   "id": "4bd4f52b",
   "metadata": {},
   "outputs": [],
   "source": [
    "#STEP 1 : CONVOLUTION"
   ]
  },
  {
   "cell_type": "code",
   "execution_count": 11,
   "id": "2064a445",
   "metadata": {},
   "outputs": [],
   "source": [
    "cnn.add(tf.keras.layers.Conv2D(filters=32, kernel_size=3, activation='relu', input_shape=[64, 64, 3]))"
   ]
  },
  {
   "cell_type": "code",
   "execution_count": 12,
   "id": "d399cf9b",
   "metadata": {},
   "outputs": [],
   "source": [
    "#STEP 2 : POOLING "
   ]
  },
  {
   "cell_type": "code",
   "execution_count": 13,
   "id": "55f716bb",
   "metadata": {},
   "outputs": [],
   "source": [
    "cnn.add(tf.keras.layers.MaxPool2D(pool_size=2, strides=2))"
   ]
  },
  {
   "cell_type": "code",
   "execution_count": 14,
   "id": "5f2faeba",
   "metadata": {},
   "outputs": [],
   "source": [
    "#Adding a convolutional layer"
   ]
  },
  {
   "cell_type": "code",
   "execution_count": 15,
   "id": "406a76bd",
   "metadata": {},
   "outputs": [],
   "source": [
    "cnn.add(tf.keras.layers.Conv2D(filters=32, kernel_size=3, activation='relu'))\n",
    "cnn.add(tf.keras.layers.MaxPool2D(pool_size=2, strides=2))"
   ]
  },
  {
   "cell_type": "code",
   "execution_count": 16,
   "id": "81bcd8f2",
   "metadata": {},
   "outputs": [],
   "source": [
    "#STEP 3 : FLATTENING"
   ]
  },
  {
   "cell_type": "code",
   "execution_count": 17,
   "id": "3b1601a8",
   "metadata": {},
   "outputs": [],
   "source": [
    "cnn.add(tf.keras.layers.Flatten())"
   ]
  },
  {
   "cell_type": "code",
   "execution_count": 18,
   "id": "79e22dbc",
   "metadata": {},
   "outputs": [],
   "source": [
    "#FULL CONNECTION"
   ]
  },
  {
   "cell_type": "code",
   "execution_count": 19,
   "id": "45b5fe3d",
   "metadata": {},
   "outputs": [],
   "source": [
    "cnn.add(tf.keras.layers.Dense(units=128, activation='relu'))"
   ]
  },
  {
   "cell_type": "code",
   "execution_count": null,
   "id": "b744e287",
   "metadata": {},
   "outputs": [],
   "source": [
    "# OUTPUT LAYER"
   ]
  },
  {
   "cell_type": "code",
   "execution_count": 20,
   "id": "78b05695",
   "metadata": {},
   "outputs": [],
   "source": [
    "cnn.add(tf.keras.layers.Dense(units=1, activation='sigmoid'))"
   ]
  },
  {
   "cell_type": "code",
   "execution_count": 23,
   "id": "52fe282b",
   "metadata": {},
   "outputs": [],
   "source": [
    "#PART 3 : TRAINING THE CNN"
   ]
  },
  {
   "cell_type": "code",
   "execution_count": 24,
   "id": "5be7d064",
   "metadata": {},
   "outputs": [],
   "source": [
    "#Compiling the CNN"
   ]
  },
  {
   "cell_type": "code",
   "execution_count": 21,
   "id": "79bef83e",
   "metadata": {},
   "outputs": [],
   "source": [
    "cnn.compile(optimizer = 'adam', loss = 'binary_crossentropy', metrics = ['accuracy'])"
   ]
  },
  {
   "cell_type": "code",
   "execution_count": 22,
   "id": "a0fafb86",
   "metadata": {},
   "outputs": [
    {
     "name": "stdout",
     "output_type": "stream",
     "text": [
      "Epoch 1/25\n",
      "250/250 [==============================] - 95s 380ms/step - loss: 0.6656 - accuracy: 0.5960 - val_loss: 0.6008 - val_accuracy: 0.6760\n",
      "Epoch 2/25\n",
      "250/250 [==============================] - 48s 193ms/step - loss: 0.6058 - accuracy: 0.6699 - val_loss: 0.7028 - val_accuracy: 0.6095\n",
      "Epoch 3/25\n",
      "250/250 [==============================] - 44s 174ms/step - loss: 0.5715 - accuracy: 0.6977 - val_loss: 0.5436 - val_accuracy: 0.7415\n",
      "Epoch 4/25\n",
      "250/250 [==============================] - 46s 183ms/step - loss: 0.5320 - accuracy: 0.7331 - val_loss: 0.5342 - val_accuracy: 0.7355\n",
      "Epoch 5/25\n",
      "250/250 [==============================] - 47s 186ms/step - loss: 0.5137 - accuracy: 0.7469 - val_loss: 0.4902 - val_accuracy: 0.7625\n",
      "Epoch 6/25\n",
      "250/250 [==============================] - 51s 202ms/step - loss: 0.4945 - accuracy: 0.7575 - val_loss: 0.4849 - val_accuracy: 0.7765\n",
      "Epoch 7/25\n",
      "250/250 [==============================] - 51s 203ms/step - loss: 0.4760 - accuracy: 0.7700 - val_loss: 0.4901 - val_accuracy: 0.7645\n",
      "Epoch 8/25\n",
      "250/250 [==============================] - 46s 183ms/step - loss: 0.4566 - accuracy: 0.7844 - val_loss: 0.4600 - val_accuracy: 0.7955\n",
      "Epoch 9/25\n",
      "250/250 [==============================] - 46s 183ms/step - loss: 0.4425 - accuracy: 0.7918 - val_loss: 0.5065 - val_accuracy: 0.7620\n",
      "Epoch 10/25\n",
      "250/250 [==============================] - 46s 185ms/step - loss: 0.4278 - accuracy: 0.7964 - val_loss: 0.4820 - val_accuracy: 0.7780\n",
      "Epoch 11/25\n",
      "250/250 [==============================] - 46s 185ms/step - loss: 0.4135 - accuracy: 0.8073 - val_loss: 0.4398 - val_accuracy: 0.8005\n",
      "Epoch 12/25\n",
      "250/250 [==============================] - 51s 203ms/step - loss: 0.4071 - accuracy: 0.8126 - val_loss: 0.4382 - val_accuracy: 0.8080\n",
      "Epoch 13/25\n",
      "250/250 [==============================] - 47s 188ms/step - loss: 0.3930 - accuracy: 0.8211 - val_loss: 0.4737 - val_accuracy: 0.7915\n",
      "Epoch 14/25\n",
      "250/250 [==============================] - 45s 181ms/step - loss: 0.3927 - accuracy: 0.8206 - val_loss: 0.4449 - val_accuracy: 0.8045\n",
      "Epoch 15/25\n",
      "250/250 [==============================] - 44s 176ms/step - loss: 0.3798 - accuracy: 0.8282 - val_loss: 0.4532 - val_accuracy: 0.8050\n",
      "Epoch 16/25\n",
      "250/250 [==============================] - 45s 179ms/step - loss: 0.3606 - accuracy: 0.8357 - val_loss: 0.4628 - val_accuracy: 0.8225\n",
      "Epoch 17/25\n",
      "250/250 [==============================] - 48s 192ms/step - loss: 0.3544 - accuracy: 0.8381 - val_loss: 0.4438 - val_accuracy: 0.8040\n",
      "Epoch 18/25\n",
      "250/250 [==============================] - 45s 181ms/step - loss: 0.3382 - accuracy: 0.8510 - val_loss: 0.4396 - val_accuracy: 0.8135\n",
      "Epoch 19/25\n",
      "250/250 [==============================] - 48s 191ms/step - loss: 0.3317 - accuracy: 0.8531 - val_loss: 0.4386 - val_accuracy: 0.8205\n",
      "Epoch 20/25\n",
      "250/250 [==============================] - 46s 182ms/step - loss: 0.3220 - accuracy: 0.8560 - val_loss: 0.4312 - val_accuracy: 0.8205\n",
      "Epoch 21/25\n",
      "250/250 [==============================] - 46s 184ms/step - loss: 0.3079 - accuracy: 0.8652 - val_loss: 0.4339 - val_accuracy: 0.8200\n",
      "Epoch 22/25\n",
      "250/250 [==============================] - 44s 176ms/step - loss: 0.2976 - accuracy: 0.8705 - val_loss: 0.4979 - val_accuracy: 0.8195\n",
      "Epoch 23/25\n",
      "250/250 [==============================] - 45s 178ms/step - loss: 0.2853 - accuracy: 0.8776 - val_loss: 0.4436 - val_accuracy: 0.8150\n",
      "Epoch 24/25\n",
      "250/250 [==============================] - 46s 185ms/step - loss: 0.2727 - accuracy: 0.8821 - val_loss: 0.4559 - val_accuracy: 0.8150\n",
      "Epoch 25/25\n",
      "250/250 [==============================] - 49s 195ms/step - loss: 0.2694 - accuracy: 0.8850 - val_loss: 0.4949 - val_accuracy: 0.8055\n"
     ]
    },
    {
     "data": {
      "text/plain": [
       "<keras.callbacks.History at 0x2285be9db80>"
      ]
     },
     "execution_count": 22,
     "metadata": {},
     "output_type": "execute_result"
    }
   ],
   "source": [
    "cnn.fit(x = training_set, validation_data = test_set, epochs = 25)"
   ]
  },
  {
   "cell_type": "code",
   "execution_count": 25,
   "id": "1c321417",
   "metadata": {},
   "outputs": [],
   "source": [
    "# MAKING THE PREDICTION"
   ]
  },
  {
   "cell_type": "code",
   "execution_count": 30,
   "id": "759fe3a9",
   "metadata": {},
   "outputs": [
    {
     "name": "stdout",
     "output_type": "stream",
     "text": [
      "1/1 [==============================] - 0s 128ms/step\n"
     ]
    }
   ],
   "source": [
    "import numpy as np\n",
    "from tensorflow.keras.preprocessing import image\n",
    "test_image = image.load_img(\"C:\\\\Users\\\\ayushi arora\\\\Desktop\\\\CNN Dataset\\\\single_prediction\\\\cat_or_dog_1.jpg\", target_size = (64, 64))\n",
    "test_image = image.img_to_array(test_image)\n",
    "test_image = np.expand_dims(test_image, axis = 0)\n",
    "result = cnn.predict(test_image)\n",
    "training_set.class_indices\n",
    "if result[0][0] == 1:\n",
    "  prediction = 'dog'\n",
    "else:\n",
    "  prediction = 'cat'"
   ]
  },
  {
   "cell_type": "code",
   "execution_count": 31,
   "id": "1214ef92",
   "metadata": {},
   "outputs": [
    {
     "name": "stdout",
     "output_type": "stream",
     "text": [
      "dog\n"
     ]
    }
   ],
   "source": [
    "print(prediction)"
   ]
  },
  {
   "cell_type": "code",
   "execution_count": null,
   "id": "ac21d38d",
   "metadata": {},
   "outputs": [],
   "source": []
  }
 ],
 "metadata": {
  "kernelspec": {
   "display_name": "Python 3",
   "language": "python",
   "name": "python3"
  },
  "language_info": {
   "codemirror_mode": {
    "name": "ipython",
    "version": 3
   },
   "file_extension": ".py",
   "mimetype": "text/x-python",
   "name": "python",
   "nbconvert_exporter": "python",
   "pygments_lexer": "ipython3",
   "version": "3.8.8"
  }
 },
 "nbformat": 4,
 "nbformat_minor": 5
}
